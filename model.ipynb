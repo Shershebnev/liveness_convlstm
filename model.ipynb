{
 "cells": [
  {
   "cell_type": "code",
   "execution_count": 1,
   "metadata": {},
   "outputs": [
    {
     "name": "stderr",
     "output_type": "stream",
     "text": [
      "Using TensorFlow backend.\n"
     ]
    }
   ],
   "source": [
    "from keras.callbacks import ModelCheckpoint, EarlyStopping\n",
    "from keras.models import Sequential, load_model\n",
    "from keras.layers import ConvLSTM2D, BatchNormalization, Conv3D, Dense, Dropout, Flatten\n",
    "from keras.utils.vis_utils import plot_model\n",
    "import numpy as np\n",
    "import tensorflow as tf\n",
    "\n",
    "from constants import BATCH_SIZE, FACE_SHAPE, FRAMES_IN_SEQ, NUM_EPOCHS\n",
    "from helpers import batch_gen, num_steps_per_epoch"
   ]
  },
  {
   "cell_type": "code",
   "execution_count": 2,
   "metadata": {},
   "outputs": [],
   "source": [
    "train_gen = batch_gen(\"train\", BATCH_SIZE)\n",
    "train_steps = num_steps_per_epoch(\"train\", BATCH_SIZE)\n",
    "val_gen = batch_gen(\"val\", BATCH_SIZE)\n",
    "val_steps = num_steps_per_epoch(\"val\", BATCH_SIZE)\n",
    "test_gen = batch_gen(\"test\", BATCH_SIZE)\n",
    "test_steps = num_steps_per_epoch(\"test\", BATCH_SIZE)"
   ]
  },
  {
   "cell_type": "code",
   "execution_count": 3,
   "metadata": {},
   "outputs": [
    {
     "name": "stdout",
     "output_type": "stream",
     "text": [
      "_________________________________________________________________\n",
      "Layer (type)                 Output Shape              Param #   \n",
      "=================================================================\n",
      "conv_lst_m2d_1 (ConvLSTM2D)  (None, 7, 62, 62, 32)     40448     \n",
      "_________________________________________________________________\n",
      "batch_normalization_1 (Batch (None, 7, 62, 62, 32)     128       \n",
      "_________________________________________________________________\n",
      "conv3d_1 (Conv3D)            (None, 3, 58, 58, 1)      4001      \n",
      "_________________________________________________________________\n",
      "flatten_1 (Flatten)          (None, 10092)             0         \n",
      "_________________________________________________________________\n",
      "dense_1 (Dense)              (None, 512)               5167616   \n",
      "_________________________________________________________________\n",
      "dropout_1 (Dropout)          (None, 512)               0         \n",
      "_________________________________________________________________\n",
      "dense_2 (Dense)              (None, 128)               65664     \n",
      "_________________________________________________________________\n",
      "dense_3 (Dense)              (None, 1)                 129       \n",
      "=================================================================\n",
      "Total params: 5,277,986\n",
      "Trainable params: 5,277,922\n",
      "Non-trainable params: 64\n",
      "_________________________________________________________________\n"
     ]
    }
   ],
   "source": [
    "model = Sequential()\n",
    "with tf.device(\"/gpu:0\"):\n",
    "    model.add(ConvLSTM2D(filters=32, kernel_size=(3, 3),\n",
    "                       input_shape=(FRAMES_IN_SEQ, 64, 64, 3),\n",
    "                       padding='valid', return_sequences=True, activation=\"elu\",\n",
    "                       dropout=0.5))\n",
    "    model.add(BatchNormalization())\n",
    "\n",
    "with tf.device(\"/gpu:1\"):\n",
    "    model.add(Conv3D(filters=1, kernel_size=(5, 5, 5),\n",
    "                   activation='elu',\n",
    "                   padding='valid', data_format='channels_last'))\n",
    "    model.add(Flatten())\n",
    "    model.add(Dense(512, activation=\"elu\"))\n",
    "    model.add(Dropout(0.5))\n",
    "    model.add(Dense(128, activation=\"elu\"))\n",
    "    model.add(Dense(1, activation=\"sigmoid\"))\n",
    "model.compile(loss='binary_crossentropy', optimizer='adam', metrics=[\"accuracy\"])\n",
    "model.summary()\n",
    "plot_model(model, show_shapes=True, to_file=\"model.png\")"
   ]
  },
  {
   "cell_type": "code",
   "execution_count": 4,
   "metadata": {},
   "outputs": [
    {
     "name": "stdout",
     "output_type": "stream",
     "text": [
      "Epoch 1/50\n",
      "348/348 [==============================] - 92s 264ms/step - loss: 0.1192 - acc: 0.9702 - val_loss: 0.7370 - val_acc: 0.9484\n",
      "\n",
      "Epoch 00001: saving model to checkpoints/weights-01-0.95-0.74.hdf5\n",
      "Epoch 2/50\n",
      "348/348 [==============================] - 74s 213ms/step - loss: 0.0978 - acc: 0.9910 - val_loss: 0.8220 - val_acc: 0.9484\n",
      "\n",
      "Epoch 00002: saving model to checkpoints/weights-02-0.95-0.82.hdf5\n",
      "Epoch 3/50\n",
      "348/348 [==============================] - 74s 213ms/step - loss: 0.1728 - acc: 0.9882 - val_loss: 0.9251 - val_acc: 0.9406\n",
      "\n",
      "Epoch 00003: saving model to checkpoints/weights-03-0.94-0.93.hdf5\n",
      "Epoch 4/50\n",
      "348/348 [==============================] - 74s 213ms/step - loss: 0.6973 - acc: 0.9557 - val_loss: 0.3487 - val_acc: 0.9781\n",
      "\n",
      "Epoch 00004: saving model to checkpoints/weights-04-0.98-0.35.hdf5\n",
      "Epoch 5/50\n",
      "348/348 [==============================] - 74s 213ms/step - loss: 0.1394 - acc: 0.9913 - val_loss: 0.1495 - val_acc: 0.9906\n",
      "\n",
      "Epoch 00005: saving model to checkpoints/weights-05-0.99-0.15.hdf5\n",
      "Epoch 6/50\n",
      "348/348 [==============================] - 74s 213ms/step - loss: 0.1307 - acc: 0.9918 - val_loss: 0.1245 - val_acc: 0.9922\n",
      "\n",
      "Epoch 00006: saving model to checkpoints/weights-06-0.99-0.12.hdf5\n",
      "Epoch 7/50\n",
      "348/348 [==============================] - 74s 212ms/step - loss: 4.5722 - acc: 0.7161 - val_loss: 7.2280 - val_acc: 0.5516\n",
      "\n",
      "Epoch 00007: saving model to checkpoints/weights-07-0.55-7.23.hdf5\n",
      "Epoch 8/50\n",
      "348/348 [==============================] - 74s 213ms/step - loss: 6.7911 - acc: 0.5787 - val_loss: 7.4798 - val_acc: 0.5359\n",
      "\n",
      "Epoch 00008: saving model to checkpoints/weights-08-0.54-7.48.hdf5\n",
      "Epoch 9/50\n",
      "348/348 [==============================] - 74s 213ms/step - loss: 6.7593 - acc: 0.5806 - val_loss: 6.5732 - val_acc: 0.5922\n",
      "\n",
      "Epoch 00009: saving model to checkpoints/weights-09-0.59-6.57.hdf5\n",
      "Epoch 00009: early stopping\n"
     ]
    },
    {
     "data": {
      "text/plain": [
       "<keras.callbacks.History at 0x7fde24168048>"
      ]
     },
     "execution_count": 4,
     "metadata": {},
     "output_type": "execute_result"
    }
   ],
   "source": [
    "# callbacks\n",
    "checkpoint = ModelCheckpoint(filepath=\"checkpoints/weights-{epoch:02d}-{val_acc:.2f}-{val_loss:.2f}.hdf5\", monitor='val_loss', verbose=1, save_best_only=False)\n",
    "early_stopping = EarlyStopping(monitor=\"val_loss\", patience=3, mode=\"min\", verbose=1)\n",
    "callbacks = [checkpoint, early_stopping]\n",
    "\n",
    "model.fit_generator(train_gen, steps_per_epoch=train_steps, epochs=NUM_EPOCHS, verbose=1,\n",
    "                    callbacks=callbacks, validation_data=val_gen, validation_steps=val_steps)"
   ]
  },
  {
   "cell_type": "code",
   "execution_count": 6,
   "metadata": {},
   "outputs": [
    {
     "name": "stdout",
     "output_type": "stream",
     "text": [
      "18/18 [==============================] - 2s 105ms/step\n"
     ]
    }
   ],
   "source": [
    "model = load_model(\"checkpoints/weights-06-0.99-0.12.hdf5\")\n",
    "eval_results = model.evaluate_generator(test_gen, steps=test_steps, verbose=1)"
   ]
  },
  {
   "cell_type": "code",
   "execution_count": 8,
   "metadata": {},
   "outputs": [
    {
     "name": "stdout",
     "output_type": "stream",
     "text": [
      "Loss 0.08303335812002564, accuracy 0.9947916666666666\n"
     ]
    }
   ],
   "source": [
    "print(\"Loss {}, accuracy {}\".format(eval_results[0], eval_results[1]))"
   ]
  },
  {
   "cell_type": "code",
   "execution_count": null,
   "metadata": {},
   "outputs": [],
   "source": []
  }
 ],
 "metadata": {
  "kernelspec": {
   "display_name": "Python 3",
   "language": "python",
   "name": "python3"
  },
  "language_info": {
   "codemirror_mode": {
    "name": "ipython",
    "version": 3
   },
   "file_extension": ".py",
   "mimetype": "text/x-python",
   "name": "python",
   "nbconvert_exporter": "python",
   "pygments_lexer": "ipython3",
   "version": "3.6.0"
  }
 },
 "nbformat": 4,
 "nbformat_minor": 2
}
