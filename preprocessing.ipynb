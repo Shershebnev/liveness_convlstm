{
 "cells": [
  {
   "cell_type": "code",
   "execution_count": 1,
   "metadata": {},
   "outputs": [],
   "source": [
    "import os\n",
    "import random\n",
    "\n",
    "import cv2\n",
    "import face_recognition\n",
    "import numpy as np\n",
    "from tqdm import tqdm_notebook as tqdm\n",
    "\n",
    "from constants import FRAMES_IN_SEQ, FACE_SHAPE\n",
    "from helpers import get_face, get_path_and_indexes"
   ]
  },
  {
   "cell_type": "code",
   "execution_count": 2,
   "metadata": {},
   "outputs": [
    {
     "data": {
      "text/plain": [
       "['1_real.mp4',\n",
       " '2_real.mp4',\n",
       " '1_fake.mp4',\n",
       " '2_fake.mp4',\n",
       " '1_fake2.mp4',\n",
       " '2_real2.mp4']"
      ]
     },
     "execution_count": 2,
     "metadata": {},
     "output_type": "execute_result"
    }
   ],
   "source": [
    "files = [item for item in os.listdir(\".\") if \"mp4\" in item]\n",
    "files"
   ]
  },
  {
   "cell_type": "code",
   "execution_count": 5,
   "metadata": {},
   "outputs": [
    {
     "data": {
      "application/vnd.jupyter.widget-view+json": {
       "model_id": "8e04f24f3c4341ccbdd9eddb892a7038",
       "version_major": 2,
       "version_minor": 0
      },
      "text/plain": [
       "HBox(children=(IntProgress(value=0, max=1577), HTML(value='')))"
      ]
     },
     "metadata": {},
     "output_type": "display_data"
    },
    {
     "name": "stdout",
     "output_type": "stream",
     "text": [
      "\n"
     ]
    },
    {
     "data": {
      "application/vnd.jupyter.widget-view+json": {
       "model_id": "7c60e65dee254a14b578784a2b35e869",
       "version_major": 2,
       "version_minor": 0
      },
      "text/plain": [
       "HBox(children=(IntProgress(value=0, max=527), HTML(value='')))"
      ]
     },
     "metadata": {},
     "output_type": "display_data"
    },
    {
     "name": "stdout",
     "output_type": "stream",
     "text": [
      "\n"
     ]
    },
    {
     "data": {
      "application/vnd.jupyter.widget-view+json": {
       "model_id": "652064262691489686cb092917c33dc6",
       "version_major": 2,
       "version_minor": 0
      },
      "text/plain": [
       "HBox(children=(IntProgress(value=0, max=1577), HTML(value='')))"
      ]
     },
     "metadata": {},
     "output_type": "display_data"
    },
    {
     "name": "stdout",
     "output_type": "stream",
     "text": [
      "\n"
     ]
    },
    {
     "data": {
      "application/vnd.jupyter.widget-view+json": {
       "model_id": "04e3a08e17af4f8f85d00106738e9215",
       "version_major": 2,
       "version_minor": 0
      },
      "text/plain": [
       "HBox(children=(IntProgress(value=0, max=527), HTML(value='')))"
      ]
     },
     "metadata": {},
     "output_type": "display_data"
    },
    {
     "name": "stdout",
     "output_type": "stream",
     "text": [
      "\n"
     ]
    },
    {
     "data": {
      "application/vnd.jupyter.widget-view+json": {
       "model_id": "8dea0f2bbed04c0a854367ec473e1d81",
       "version_major": 2,
       "version_minor": 0
      },
      "text/plain": [
       "HBox(children=(IntProgress(value=0, max=1577), HTML(value='')))"
      ]
     },
     "metadata": {},
     "output_type": "display_data"
    },
    {
     "name": "stdout",
     "output_type": "stream",
     "text": [
      "\n"
     ]
    },
    {
     "data": {
      "application/vnd.jupyter.widget-view+json": {
       "model_id": "2323b89802a74e2495b787a5a94df207",
       "version_major": 2,
       "version_minor": 0
      },
      "text/plain": [
       "HBox(children=(IntProgress(value=0, max=527), HTML(value='')))"
      ]
     },
     "metadata": {},
     "output_type": "display_data"
    },
    {
     "name": "stdout",
     "output_type": "stream",
     "text": [
      "\n"
     ]
    }
   ],
   "source": [
    "train_idx = 0\n",
    "val_idx = 0\n",
    "test_idx = 0\n",
    "for file in files:\n",
    "    gt = \"fake\" if \"fake\" in file else \"real\"\n",
    "    flip = True if gt == \"fake\" else False  # fake frames need to be mirrored\n",
    "    v = cv2.VideoCapture(file)\n",
    "    w = int(v.get(cv2.CAP_PROP_FRAME_WIDTH))\n",
    "    h = int(v.get(cv2.CAP_PROP_FRAME_HEIGHT))\n",
    "    num_frames = v.get(cv2.CAP_PROP_FRAME_COUNT)\n",
    "    frames_seq = np.zeros((FRAMES_IN_SEQ, h, w, 3), dtype=np.uint8)\n",
    "    # prepopulating array with all but one frames\n",
    "    for i in range(FRAMES_IN_SEQ - 1):\n",
    "        ret, frame = v.read()\n",
    "        frame = frame[..., ::-1]  # BGR2RGB\n",
    "        if flip:\n",
    "            frame = cv2.flip(frame, 1)\n",
    "        frames_seq[i] = frame\n",
    "    for i in tqdm(range(FRAMES_IN_SEQ - 1, int(num_frames - FRAMES_IN_SEQ))):\n",
    "        ret, frame = v.read()\n",
    "        frame = frame[..., ::-1]  # BGR2RGB\n",
    "        if flip:\n",
    "            frame = cv2.flip(frame, 1)\n",
    "        frames_seq[-1] = frame\n",
    "        found, faces = get_face(frames_seq, FACE_SHAPE)\n",
    "        if found:\n",
    "            # forward order\n",
    "            out_path, train_idx, val_idx, test_idx = get_path_and_indexes(gt, train_idx, val_idx, test_idx)\n",
    "            np.savez(out_path, seq=faces)\n",
    "            # reverse order for data augmentation\n",
    "            out_path, train_idx, val_idx, test_idx = get_path_and_indexes(gt, train_idx, val_idx, test_idx)\n",
    "            np.savez(out_path, seq=np.flip(faces, 0))\n",
    "        # rollling frames, so that the first one will become the last one and will be overwritten\n",
    "        frames_seq = np.roll(frames_seq, FRAMES_IN_SEQ - 1, 0)"
   ]
  },
  {
   "cell_type": "code",
   "execution_count": null,
   "metadata": {},
   "outputs": [],
   "source": []
  }
 ],
 "metadata": {
  "kernelspec": {
   "display_name": "Python 3",
   "language": "python",
   "name": "python3"
  },
  "language_info": {
   "codemirror_mode": {
    "name": "ipython",
    "version": 3
   },
   "file_extension": ".py",
   "mimetype": "text/x-python",
   "name": "python",
   "nbconvert_exporter": "python",
   "pygments_lexer": "ipython3",
   "version": "3.6.0"
  }
 },
 "nbformat": 4,
 "nbformat_minor": 2
}
